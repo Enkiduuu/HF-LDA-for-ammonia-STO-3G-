{
 "cells": [
  {
   "cell_type": "code",
   "execution_count": null,
   "source": [
    "import matplotlib.pyplot as plt\r\n",
    "file_name='C:/Users/HUAWEI/Desktop/EIGENVAL'\r\n",
    "file_object = open(file_name)\r\n",
    "data = file_object.readlines()\r\n",
    "weight = 0\r\n",
    "k = False\r\n",
    "m = 0\r\n",
    "n = 0\r\n",
    "x = []\r\n",
    "y = []\r\n",
    "o = 0\r\n",
    "for i in data:\r\n",
    "    rec = i.split()\r\n",
    "    if i == ' \\n' and k == False :\r\n",
    "        k = True\r\n",
    "    if i == ' \\n' and k == True :\r\n",
    "        m = 0\r\n",
    "        y.append(x)\r\n",
    "        x = []\r\n",
    "    if k == True and len(rec) == 4 and rec[3] != '0.0000000E+00':\r\n",
    "        k = False\r\n",
    "    if k == True and len(rec) == 4 and rec[3] == '0.0000000E+00':\r\n",
    "        o = o+1\r\n",
    "    if len(rec) == 3 and k == True :\r\n",
    "        m = m + 1\r\n",
    "        print(rec)\r\n",
    "        x.append(i)\r\n",
    "    if m>n :\r\n",
    "        n = m\r\n",
    "m = -1\r\n",
    "y.append(x)\r\n",
    "maximum = -1000\r\n",
    "maximum_position = -1\r\n",
    "minimum_position = -1\r\n",
    "minimum = 1000\r\n",
    "gg = [[-1000 for i in range(o)] for j in range(n)]\r\n",
    "for i in y:\r\n",
    "    if i!=[] :\r\n",
    "        m = m + 1\r\n",
    "        for j in i:\r\n",
    "            x=j.split()\r\n",
    "            gg[int(x[0])-1][m]=float(x[1])\r\n",
    "            if float(x[2]) == 1 :\r\n",
    "                if float(x[1]) >= maximum :\r\n",
    "                    maximum = float(x[1])\r\n",
    "                    maximum_position = int(x[0])-1\r\n",
    "            if float(x[2]) == 0:\r\n",
    "                if minimum >= float(x[1]):\r\n",
    "                    minimum = float(x[1])\r\n",
    "                    minimum_position = int(x[0])-1\r\n",
    "y = [i for i in range(o)]\r\n",
    "for i in range(n):\r\n",
    "    x = []\r\n",
    "    for j in range(o):\r\n",
    "        x.append(gg[i][j])\r\n",
    "    plt.plot(y,x)\r\n",
    "print('HOMO',maximum, 'LUMO', minimum, 'GAP:', minimum-maximum)\r\n",
    "if maximum_position == minimum_position :\r\n",
    "    print('Direct')\r\n",
    "else:\r\n",
    "    print('Indirect')\r\n",
    "plt.show()"
   ],
   "outputs": [],
   "metadata": {}
  },
  {
   "cell_type": "code",
   "execution_count": 5,
   "source": [
    "from pymatgen.core import Structure\r\n",
    "structure = Structure.from_file(\"C:/Users/HUAWEI/Desktop/MgTiO3_mp-1016830_primitive.cif\")\r\n",
    "structure.to(file_name=\"POSCAR\")"
   ],
   "outputs": [
    {
     "output_type": "error",
     "ename": "ValueError",
     "evalue": "Invalid format: ``",
     "traceback": [
      "\u001b[1;31m---------------------------------------------------------------------------\u001b[0m",
      "\u001b[1;31mValueError\u001b[0m                                Traceback (most recent call last)",
      "\u001b[1;32m~\\AppData\\Local\\Temp/ipykernel_1568/551186922.py\u001b[0m in \u001b[0;36m<module>\u001b[1;34m\u001b[0m\n\u001b[0;32m      1\u001b[0m \u001b[1;32mfrom\u001b[0m \u001b[0mpymatgen\u001b[0m\u001b[1;33m.\u001b[0m\u001b[0mcore\u001b[0m \u001b[1;32mimport\u001b[0m \u001b[0mStructure\u001b[0m\u001b[1;33m\u001b[0m\u001b[1;33m\u001b[0m\u001b[0m\n\u001b[0;32m      2\u001b[0m \u001b[0mstructure\u001b[0m \u001b[1;33m=\u001b[0m \u001b[0mStructure\u001b[0m\u001b[1;33m.\u001b[0m\u001b[0mfrom_file\u001b[0m\u001b[1;33m(\u001b[0m\u001b[1;34m\"C:/Users/HUAWEI/Desktop/MgTiO3_mp-1016830_primitive.cif\"\u001b[0m\u001b[1;33m)\u001b[0m\u001b[1;33m\u001b[0m\u001b[1;33m\u001b[0m\u001b[0m\n\u001b[1;32m----> 3\u001b[1;33m \u001b[0mstructure\u001b[0m\u001b[1;33m.\u001b[0m\u001b[0mto\u001b[0m\u001b[1;33m(\u001b[0m\u001b[0mfile_name\u001b[0m\u001b[1;33m=\u001b[0m\u001b[1;34m\"POSCAR\"\u001b[0m\u001b[1;33m)\u001b[0m\u001b[1;33m\u001b[0m\u001b[1;33m\u001b[0m\u001b[0m\n\u001b[0m",
      "\u001b[1;32m~\\Anaconda3\\envs\\my_pymatgen\\lib\\site-packages\\pymatgen\\core\\structure.py\u001b[0m in \u001b[0;36mto\u001b[1;34m(self, fmt, filename, **kwargs)\u001b[0m\n\u001b[0;32m   2325\u001b[0m             \u001b[1;32mreturn\u001b[0m \u001b[0myaml\u001b[0m\u001b[1;33m.\u001b[0m\u001b[0msafe_dump\u001b[0m\u001b[1;33m(\u001b[0m\u001b[0mself\u001b[0m\u001b[1;33m.\u001b[0m\u001b[0mas_dict\u001b[0m\u001b[1;33m(\u001b[0m\u001b[1;33m)\u001b[0m\u001b[1;33m)\u001b[0m\u001b[1;33m\u001b[0m\u001b[1;33m\u001b[0m\u001b[0m\n\u001b[0;32m   2326\u001b[0m         \u001b[1;32melse\u001b[0m\u001b[1;33m:\u001b[0m\u001b[1;33m\u001b[0m\u001b[1;33m\u001b[0m\u001b[0m\n\u001b[1;32m-> 2327\u001b[1;33m             \u001b[1;32mraise\u001b[0m \u001b[0mValueError\u001b[0m\u001b[1;33m(\u001b[0m\u001b[1;34m\"Invalid format: `%s`\"\u001b[0m \u001b[1;33m%\u001b[0m \u001b[0mstr\u001b[0m\u001b[1;33m(\u001b[0m\u001b[0mfmt\u001b[0m\u001b[1;33m)\u001b[0m\u001b[1;33m)\u001b[0m\u001b[1;33m\u001b[0m\u001b[1;33m\u001b[0m\u001b[0m\n\u001b[0m\u001b[0;32m   2328\u001b[0m \u001b[1;33m\u001b[0m\u001b[0m\n\u001b[0;32m   2329\u001b[0m         \u001b[1;32mif\u001b[0m \u001b[0mfilename\u001b[0m\u001b[1;33m:\u001b[0m\u001b[1;33m\u001b[0m\u001b[1;33m\u001b[0m\u001b[0m\n",
      "\u001b[1;31mValueError\u001b[0m: Invalid format: ``"
     ]
    }
   ],
   "metadata": {}
  }
 ],
 "metadata": {
  "orig_nbformat": 4,
  "language_info": {
   "name": "python",
   "version": "3.9.6",
   "mimetype": "text/x-python",
   "codemirror_mode": {
    "name": "ipython",
    "version": 3
   },
   "pygments_lexer": "ipython3",
   "nbconvert_exporter": "python",
   "file_extension": ".py"
  },
  "kernelspec": {
   "name": "python3",
   "display_name": "Python 3.9.6 64-bit ('my_pymatgen': conda)"
  },
  "interpreter": {
   "hash": "d3d7c0c4be70b8e6f5a4db1ec4025f94a8e937fdd5c77bb9f2286de7985e2bbe"
  }
 },
 "nbformat": 4,
 "nbformat_minor": 2
}